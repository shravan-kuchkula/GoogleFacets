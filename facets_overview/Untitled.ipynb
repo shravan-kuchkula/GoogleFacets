{
 "cells": [
  {
   "cell_type": "code",
   "execution_count": 31,
   "metadata": {
    "collapsed": true
   },
   "outputs": [],
   "source": [
    "# Add the facets overview python code to the python path\n",
    "import sys\n",
    "sys.path.append('./python')"
   ]
  },
  {
   "cell_type": "code",
   "execution_count": 32,
   "metadata": {
    "collapsed": false
   },
   "outputs": [],
   "source": [
    "from generic_feature_statistics_generator import GenericFeatureStatisticsGenerator\n",
    "import pandas as pd\n",
    "df =  pd.DataFrame({'num' : [1, 2, 3, 4], 'str' : ['a', 'a', 'b', None]})\n",
    "proto = GenericFeatureStatisticsGenerator().ProtoFromDataFrames([{'name': 'test', 'table': df}])"
   ]
  },
  {
   "cell_type": "code",
   "execution_count": 33,
   "metadata": {
    "collapsed": false
   },
   "outputs": [
    {
     "data": {
      "text/html": [
       "<div>\n",
       "<table border=\"1\" class=\"dataframe\">\n",
       "  <thead>\n",
       "    <tr style=\"text-align: right;\">\n",
       "      <th></th>\n",
       "      <th>num</th>\n",
       "      <th>str</th>\n",
       "    </tr>\n",
       "  </thead>\n",
       "  <tbody>\n",
       "    <tr>\n",
       "      <th>0</th>\n",
       "      <td>1</td>\n",
       "      <td>a</td>\n",
       "    </tr>\n",
       "    <tr>\n",
       "      <th>1</th>\n",
       "      <td>2</td>\n",
       "      <td>a</td>\n",
       "    </tr>\n",
       "    <tr>\n",
       "      <th>2</th>\n",
       "      <td>3</td>\n",
       "      <td>b</td>\n",
       "    </tr>\n",
       "    <tr>\n",
       "      <th>3</th>\n",
       "      <td>4</td>\n",
       "      <td>None</td>\n",
       "    </tr>\n",
       "  </tbody>\n",
       "</table>\n",
       "</div>"
      ],
      "text/plain": [
       "   num   str\n",
       "0    1     a\n",
       "1    2     a\n",
       "2    3     b\n",
       "3    4  None"
      ]
     },
     "execution_count": 33,
     "metadata": {},
     "output_type": "execute_result"
    }
   ],
   "source": [
    "df"
   ]
  },
  {
   "cell_type": "code",
   "execution_count": 34,
   "metadata": {
    "collapsed": false
   },
   "outputs": [
    {
     "data": {
      "text/plain": [
       "datasets {\n",
       "  name: \"test\"\n",
       "  num_examples: 4\n",
       "  features {\n",
       "    name: \"num\"\n",
       "    num_stats {\n",
       "      common_stats {\n",
       "        num_non_missing: 4\n",
       "        min_num_values: 1\n",
       "        max_num_values: 1\n",
       "        avg_num_values: 1.0\n",
       "        num_values_histogram {\n",
       "          buckets {\n",
       "            low_value: 1.0\n",
       "            high_value: 1.0\n",
       "            sample_count: 0.4\n",
       "          }\n",
       "          buckets {\n",
       "            low_value: 1.0\n",
       "            high_value: 1.0\n",
       "            sample_count: 0.4\n",
       "          }\n",
       "          buckets {\n",
       "            low_value: 1.0\n",
       "            high_value: 1.0\n",
       "            sample_count: 0.4\n",
       "          }\n",
       "          buckets {\n",
       "            low_value: 1.0\n",
       "            high_value: 1.0\n",
       "            sample_count: 0.4\n",
       "          }\n",
       "          buckets {\n",
       "            low_value: 1.0\n",
       "            high_value: 1.0\n",
       "            sample_count: 0.4\n",
       "          }\n",
       "          buckets {\n",
       "            low_value: 1.0\n",
       "            high_value: 1.0\n",
       "            sample_count: 0.4\n",
       "          }\n",
       "          buckets {\n",
       "            low_value: 1.0\n",
       "            high_value: 1.0\n",
       "            sample_count: 0.4\n",
       "          }\n",
       "          buckets {\n",
       "            low_value: 1.0\n",
       "            high_value: 1.0\n",
       "            sample_count: 0.4\n",
       "          }\n",
       "          buckets {\n",
       "            low_value: 1.0\n",
       "            high_value: 1.0\n",
       "            sample_count: 0.4\n",
       "          }\n",
       "          buckets {\n",
       "            low_value: 1.0\n",
       "            high_value: 1.0\n",
       "            sample_count: 0.4\n",
       "          }\n",
       "          type: QUANTILES\n",
       "        }\n",
       "      }\n",
       "      mean: 2.5\n",
       "      std_dev: 1.118033988749895\n",
       "      min: 1\n",
       "      median: 2.5\n",
       "      max: 4\n",
       "      histograms {\n",
       "        buckets {\n",
       "          low_value: 1.0\n",
       "          high_value: 1.3\n",
       "          sample_count: 1\n",
       "        }\n",
       "        buckets {\n",
       "          low_value: 1.3\n",
       "          high_value: 1.6\n",
       "        }\n",
       "        buckets {\n",
       "          low_value: 1.6\n",
       "          high_value: 1.9\n",
       "        }\n",
       "        buckets {\n",
       "          low_value: 1.9\n",
       "          high_value: 2.2\n",
       "          sample_count: 1\n",
       "        }\n",
       "        buckets {\n",
       "          low_value: 2.2\n",
       "          high_value: 2.5\n",
       "        }\n",
       "        buckets {\n",
       "          low_value: 2.5\n",
       "          high_value: 2.8\n",
       "        }\n",
       "        buckets {\n",
       "          low_value: 2.8\n",
       "          high_value: 3.1\n",
       "          sample_count: 1\n",
       "        }\n",
       "        buckets {\n",
       "          low_value: 3.1\n",
       "          high_value: 3.4\n",
       "        }\n",
       "        buckets {\n",
       "          low_value: 3.4\n",
       "          high_value: 3.7\n",
       "        }\n",
       "        buckets {\n",
       "          low_value: 3.7\n",
       "          high_value: 4.0\n",
       "          sample_count: 1\n",
       "        }\n",
       "      }\n",
       "      histograms {\n",
       "        buckets {\n",
       "          low_value: 1.0\n",
       "          high_value: 1.3\n",
       "          sample_count: 0.4\n",
       "        }\n",
       "        buckets {\n",
       "          low_value: 1.3\n",
       "          high_value: 1.6\n",
       "          sample_count: 0.4\n",
       "        }\n",
       "        buckets {\n",
       "          low_value: 1.6\n",
       "          high_value: 1.9\n",
       "          sample_count: 0.4\n",
       "        }\n",
       "        buckets {\n",
       "          low_value: 1.9\n",
       "          high_value: 2.2\n",
       "          sample_count: 0.4\n",
       "        }\n",
       "        buckets {\n",
       "          low_value: 2.2\n",
       "          high_value: 2.5\n",
       "          sample_count: 0.4\n",
       "        }\n",
       "        buckets {\n",
       "          low_value: 2.5\n",
       "          high_value: 2.8\n",
       "          sample_count: 0.4\n",
       "        }\n",
       "        buckets {\n",
       "          low_value: 2.8\n",
       "          high_value: 3.1\n",
       "          sample_count: 0.4\n",
       "        }\n",
       "        buckets {\n",
       "          low_value: 3.1\n",
       "          high_value: 3.4\n",
       "          sample_count: 0.4\n",
       "        }\n",
       "        buckets {\n",
       "          low_value: 3.4\n",
       "          high_value: 3.7\n",
       "          sample_count: 0.4\n",
       "        }\n",
       "        buckets {\n",
       "          low_value: 3.7\n",
       "          high_value: 4.0\n",
       "          sample_count: 0.4\n",
       "        }\n",
       "        type: QUANTILES\n",
       "      }\n",
       "    }\n",
       "  }\n",
       "  features {\n",
       "    name: \"str\"\n",
       "    type: STRING\n",
       "    string_stats {\n",
       "      common_stats {\n",
       "        num_non_missing: 3\n",
       "        num_missing: 1\n",
       "        min_num_values: 1\n",
       "        max_num_values: 1\n",
       "        avg_num_values: 1.0\n",
       "        num_values_histogram {\n",
       "          buckets {\n",
       "            low_value: 1.0\n",
       "            high_value: 1.0\n",
       "            sample_count: 0.4\n",
       "          }\n",
       "          buckets {\n",
       "            low_value: 1.0\n",
       "            high_value: 1.0\n",
       "            sample_count: 0.4\n",
       "          }\n",
       "          buckets {\n",
       "            low_value: 1.0\n",
       "            high_value: 1.0\n",
       "            sample_count: 0.4\n",
       "          }\n",
       "          buckets {\n",
       "            low_value: 1.0\n",
       "            high_value: 1.0\n",
       "            sample_count: 0.4\n",
       "          }\n",
       "          buckets {\n",
       "            low_value: 1.0\n",
       "            high_value: 1.0\n",
       "            sample_count: 0.4\n",
       "          }\n",
       "          buckets {\n",
       "            low_value: 1.0\n",
       "            high_value: 1.0\n",
       "            sample_count: 0.4\n",
       "          }\n",
       "          buckets {\n",
       "            low_value: 1.0\n",
       "            high_value: 1.0\n",
       "            sample_count: 0.4\n",
       "          }\n",
       "          buckets {\n",
       "            low_value: 1.0\n",
       "            high_value: 1.0\n",
       "            sample_count: 0.4\n",
       "          }\n",
       "          buckets {\n",
       "            low_value: 1.0\n",
       "            high_value: 1.0\n",
       "            sample_count: 0.4\n",
       "          }\n",
       "          buckets {\n",
       "            low_value: 1.0\n",
       "            high_value: 1.0\n",
       "            sample_count: 0.4\n",
       "          }\n",
       "          type: QUANTILES\n",
       "        }\n",
       "      }\n",
       "      unique: 2\n",
       "      top_values {\n",
       "        value: \"a\"\n",
       "        frequency: 2\n",
       "      }\n",
       "      top_values {\n",
       "        value: \"b\"\n",
       "        frequency: 1\n",
       "      }\n",
       "      avg_length: 1.0\n",
       "      rank_histogram {\n",
       "        buckets {\n",
       "          label: \"a\"\n",
       "          sample_count: 2\n",
       "        }\n",
       "        buckets {\n",
       "          low_rank: 1\n",
       "          high_rank: 1\n",
       "          label: \"b\"\n",
       "          sample_count: 1\n",
       "        }\n",
       "      }\n",
       "    }\n",
       "  }\n",
       "}"
      ]
     },
     "execution_count": 34,
     "metadata": {},
     "output_type": "execute_result"
    }
   ],
   "source": [
    "proto"
   ]
  },
  {
   "cell_type": "code",
   "execution_count": 35,
   "metadata": {
    "collapsed": false
   },
   "outputs": [
    {
     "data": {
      "text/html": [
       "<link rel=\"import\" href=\"/nbextensions/facets-dist/facets-jupyter.html\" >\n",
       "        <facets-overview id=\"elem\"></facets-overview>\n",
       "        <script>\n",
       "          document.querySelector(\"#elem\").protoInput = \"CpQKCgR0ZXN0EAQagAcKA251bRr4BgqyAggEGAEgAS0AAIA/MqQCGhsJAAAAAAAA8D8RAAAAAAAA8D8hmpmZmZmZ2T8aGwkAAAAAAADwPxEAAAAAAADwPyGamZmZmZnZPxobCQAAAAAAAPA/EQAAAAAAAPA/IZqZmZmZmdk/GhsJAAAAAAAA8D8RAAAAAAAA8D8hmpmZmZmZ2T8aGwkAAAAAAADwPxEAAAAAAADwPyGamZmZmZnZPxobCQAAAAAAAPA/EQAAAAAAAPA/IZqZmZmZmdk/GhsJAAAAAAAA8D8RAAAAAAAA8D8hmpmZmZmZ2T8aGwkAAAAAAADwPxEAAAAAAADwPyGamZmZmZnZPxobCQAAAAAAAPA/EQAAAAAAAPA/IZqZmZmZmdk/GhsJAAAAAAAA8D8RAAAAAAAA8D8hmpmZmZmZ2T8gAREAAAAAAAAEQBmo9Jebd+PxPykAAAAAAADwPzEAAAAAAAAEQDkAAAAAAAAQQELsARobCQAAAAAAAPA/Ec3MzMzMzPQ/IQAAAAAAAPA/GhIJzczMzMzM9D8RmpmZmZmZ+T8aEgmamZmZmZn5PxFmZmZmZmb+PxobCWZmZmZmZv4/EZqZmZmZmQFAIQAAAAAAAPA/GhIJmpmZmZmZAUARAAAAAAAABEAaEgkAAAAAAAAEQBFmZmZmZmYGQBobCWZmZmZmZgZAEc3MzMzMzAhAIQAAAAAAAPA/GhIJzczMzMzMCEARMzMzMzMzC0AaEgkzMzMzMzMLQBGZmZmZmZkNQBobCZmZmZmZmQ1AEQAAAAAAABBAIQAAAAAAAPA/QqQCGhsJAAAAAAAA8D8RzczMzMzM9D8hmpmZmZmZ2T8aGwnNzMzMzMz0PxGamZmZmZn5PyGamZmZmZnZPxobCZqZmZmZmfk/EWZmZmZmZv4/IZqZmZmZmdk/GhsJZmZmZmZm/j8RmpmZmZmZAUAhmpmZmZmZ2T8aGwmamZmZmZkBQBEAAAAAAAAEQCGamZmZmZnZPxobCQAAAAAAAARAEWZmZmZmZgZAIZqZmZmZmdk/GhsJZmZmZmZmBkARzMzMzMzMCEAhmpmZmZmZ2T8aGwnMzMzMzMwIQBE0MzMzMzMLQCGamZmZmZnZPxobCTQzMzMzMwtAEZqZmZmZmQ1AIZqZmZmZmdk/GhsJmpmZmZmZDUARAAAAAAAAEEAhmpmZmZmZ2T8gARqGAwoDc3RyEAIi/AIKtAIIAxABGAEgAS0AAIA/MqQCGhsJAAAAAAAA8D8RAAAAAAAA8D8hmpmZmZmZ2T8aGwkAAAAAAADwPxEAAAAAAADwPyGamZmZmZnZPxobCQAAAAAAAPA/EQAAAAAAAPA/IZqZmZmZmdk/GhsJAAAAAAAA8D8RAAAAAAAA8D8hmpmZmZmZ2T8aGwkAAAAAAADwPxEAAAAAAADwPyGamZmZmZnZPxobCQAAAAAAAPA/EQAAAAAAAPA/IZqZmZmZmdk/GhsJAAAAAAAA8D8RAAAAAAAA8D8hmpmZmZmZ2T8aGwkAAAAAAADwPxEAAAAAAADwPyGamZmZmZnZPxobCQAAAAAAAPA/EQAAAAAAAPA/IZqZmZmZmdk/GhsJAAAAAAAA8D8RAAAAAAAA8D8hmpmZmZmZ2T8gARACGgwSAWEZAAAAAAAAAEAaDBIBYhkAAAAAAADwPyUAAIA/KiAKDCIBYSkAAAAAAAAAQAoQCAEQASIBYikAAAAAAADwPw==\";\n",
       "        </script>"
      ],
      "text/plain": [
       "<IPython.core.display.HTML object>"
      ]
     },
     "metadata": {},
     "output_type": "display_data"
    }
   ],
   "source": [
    "from IPython.core.display import display, HTML\n",
    "import base64\n",
    "protostr = base64.b64encode(proto.SerializeToString()).decode(\"utf-8\")\n",
    "HTML_TEMPLATE = \"\"\"<link rel=\"import\" href=\"/nbextensions/facets-dist/facets-jupyter.html\" >\n",
    "        <facets-overview id=\"elem\"></facets-overview>\n",
    "        <script>\n",
    "          document.querySelector(\"#elem\").protoInput = \"{protostr}\";\n",
    "        </script>\"\"\"\n",
    "html = HTML_TEMPLATE.format(protostr=protostr)\n",
    "display(HTML(html))"
   ]
  },
  {
   "cell_type": "code",
   "execution_count": 36,
   "metadata": {
    "collapsed": true
   },
   "outputs": [],
   "source": [
    "highSchools = pd.read_csv('highSchools.csv')"
   ]
  },
  {
   "cell_type": "code",
   "execution_count": 37,
   "metadata": {
    "collapsed": false
   },
   "outputs": [
    {
     "name": "stdout",
     "output_type": "stream",
     "text": [
      "<class 'pandas.core.frame.DataFrame'>\n",
      "RangeIndex: 478 entries, 0 to 477\n",
      "Columns: 294 entries, Unnamed: 0 to Percent GLP\n",
      "dtypes: bool(8), float64(264), int64(9), object(13)\n",
      "memory usage: 1.0+ MB\n"
     ]
    }
   ],
   "source": [
    "highSchools.info()"
   ]
  },
  {
   "cell_type": "code",
   "execution_count": 38,
   "metadata": {
    "collapsed": true
   },
   "outputs": [],
   "source": [
    "highSchools.columns = highSchools.columns.str.replace('\\s+', '_')"
   ]
  },
  {
   "cell_type": "code",
   "execution_count": 39,
   "metadata": {
    "collapsed": false
   },
   "outputs": [
    {
     "data": {
      "text/plain": [
       "Index(['Cohort_Graduation_Rate_Standard_Score'], dtype='object')"
      ]
     },
     "execution_count": 39,
     "metadata": {},
     "output_type": "execute_result"
    }
   ],
   "source": [
    "highSchools.columns[highSchools.columns.str.contains('Graduation')]"
   ]
  },
  {
   "cell_type": "code",
   "execution_count": null,
   "metadata": {
    "collapsed": true
   },
   "outputs": [],
   "source": []
  },
  {
   "cell_type": "code",
   "execution_count": 55,
   "metadata": {
    "collapsed": true
   },
   "outputs": [],
   "source": [
    "#cols = ['clp_ind_flg', 'Cohort_Graduation_Rate_Standard_Score']\n",
    "cols = ['Cohort_Graduation_Rate_Standard_Score']"
   ]
  },
  {
   "cell_type": "code",
   "execution_count": 56,
   "metadata": {
    "collapsed": false
   },
   "outputs": [],
   "source": [
    "dfHS = highSchools[cols]"
   ]
  },
  {
   "cell_type": "code",
   "execution_count": 57,
   "metadata": {
    "collapsed": false
   },
   "outputs": [
    {
     "data": {
      "text/html": [
       "<div>\n",
       "<table border=\"1\" class=\"dataframe\">\n",
       "  <thead>\n",
       "    <tr style=\"text-align: right;\">\n",
       "      <th></th>\n",
       "      <th>Cohort_Graduation_Rate_Standard_Score</th>\n",
       "    </tr>\n",
       "  </thead>\n",
       "  <tbody>\n",
       "    <tr>\n",
       "      <th>0</th>\n",
       "      <td>NaN</td>\n",
       "    </tr>\n",
       "    <tr>\n",
       "      <th>1</th>\n",
       "      <td>NaN</td>\n",
       "    </tr>\n",
       "    <tr>\n",
       "      <th>2</th>\n",
       "      <td>NaN</td>\n",
       "    </tr>\n",
       "    <tr>\n",
       "      <th>3</th>\n",
       "      <td>NaN</td>\n",
       "    </tr>\n",
       "    <tr>\n",
       "      <th>4</th>\n",
       "      <td>NaN</td>\n",
       "    </tr>\n",
       "  </tbody>\n",
       "</table>\n",
       "</div>"
      ],
      "text/plain": [
       "   Cohort_Graduation_Rate_Standard_Score\n",
       "0                                    NaN\n",
       "1                                    NaN\n",
       "2                                    NaN\n",
       "3                                    NaN\n",
       "4                                    NaN"
      ]
     },
     "execution_count": 57,
     "metadata": {},
     "output_type": "execute_result"
    }
   ],
   "source": [
    "dfHS.head()"
   ]
  },
  {
   "cell_type": "code",
   "execution_count": 24,
   "metadata": {
    "collapsed": true
   },
   "outputs": [],
   "source": [
    "#df =  pd.DataFrame({'num' : [1, 2, 3, 4], 'str' : ['a', 'a', 'b', None]})\n",
    "proto = GenericFeatureStatisticsGenerator().ProtoFromDataFrames([{'name': 'test', 'table': dfHS}])"
   ]
  },
  {
   "cell_type": "code",
   "execution_count": 42,
   "metadata": {
    "collapsed": false
   },
   "outputs": [
    {
     "data": {
      "text/html": [
       "<div>\n",
       "<table border=\"1\" class=\"dataframe\">\n",
       "  <thead>\n",
       "    <tr style=\"text-align: right;\">\n",
       "      <th></th>\n",
       "      <th>num</th>\n",
       "      <th>str</th>\n",
       "    </tr>\n",
       "  </thead>\n",
       "  <tbody>\n",
       "    <tr>\n",
       "      <th>0</th>\n",
       "      <td>1</td>\n",
       "      <td>a</td>\n",
       "    </tr>\n",
       "    <tr>\n",
       "      <th>1</th>\n",
       "      <td>2</td>\n",
       "      <td>a</td>\n",
       "    </tr>\n",
       "    <tr>\n",
       "      <th>2</th>\n",
       "      <td>3</td>\n",
       "      <td>b</td>\n",
       "    </tr>\n",
       "    <tr>\n",
       "      <th>3</th>\n",
       "      <td>4</td>\n",
       "      <td>None</td>\n",
       "    </tr>\n",
       "  </tbody>\n",
       "</table>\n",
       "</div>"
      ],
      "text/plain": [
       "   num   str\n",
       "0    1     a\n",
       "1    2     a\n",
       "2    3     b\n",
       "3    4  None"
      ]
     },
     "execution_count": 42,
     "metadata": {},
     "output_type": "execute_result"
    }
   ],
   "source": [
    "df"
   ]
  },
  {
   "cell_type": "code",
   "execution_count": 58,
   "metadata": {
    "collapsed": false
   },
   "outputs": [],
   "source": [
    "dfHS = dfHS.dropna()"
   ]
  },
  {
   "cell_type": "code",
   "execution_count": 59,
   "metadata": {
    "collapsed": false
   },
   "outputs": [
    {
     "data": {
      "text/html": [
       "<div>\n",
       "<table border=\"1\" class=\"dataframe\">\n",
       "  <thead>\n",
       "    <tr style=\"text-align: right;\">\n",
       "      <th></th>\n",
       "      <th>Cohort_Graduation_Rate_Standard_Score</th>\n",
       "    </tr>\n",
       "  </thead>\n",
       "  <tbody>\n",
       "    <tr>\n",
       "      <th>25</th>\n",
       "      <td>100.0</td>\n",
       "    </tr>\n",
       "    <tr>\n",
       "      <th>26</th>\n",
       "      <td>85.0</td>\n",
       "    </tr>\n",
       "    <tr>\n",
       "      <th>27</th>\n",
       "      <td>84.0</td>\n",
       "    </tr>\n",
       "    <tr>\n",
       "      <th>28</th>\n",
       "      <td>83.0</td>\n",
       "    </tr>\n",
       "    <tr>\n",
       "      <th>29</th>\n",
       "      <td>91.0</td>\n",
       "    </tr>\n",
       "  </tbody>\n",
       "</table>\n",
       "</div>"
      ],
      "text/plain": [
       "    Cohort_Graduation_Rate_Standard_Score\n",
       "25                                  100.0\n",
       "26                                   85.0\n",
       "27                                   84.0\n",
       "28                                   83.0\n",
       "29                                   91.0"
      ]
     },
     "execution_count": 59,
     "metadata": {},
     "output_type": "execute_result"
    }
   ],
   "source": [
    "dfHS.head()"
   ]
  },
  {
   "cell_type": "code",
   "execution_count": null,
   "metadata": {
    "collapsed": true
   },
   "outputs": [],
   "source": []
  },
  {
   "cell_type": "code",
   "execution_count": 60,
   "metadata": {
    "collapsed": true
   },
   "outputs": [],
   "source": [
    "protoHS = GenericFeatureStatisticsGenerator().ProtoFromDataFrames([{'name': 'test1', 'table': dfHS}])"
   ]
  },
  {
   "cell_type": "code",
   "execution_count": 61,
   "metadata": {
    "collapsed": false
   },
   "outputs": [
    {
     "data": {
      "text/plain": [
       "datasets {\n",
       "  name: \"test1\"\n",
       "  num_examples: 436\n",
       "  features {\n",
       "    name: \"Cohort_Graduation_Rate_Standard_Score\"\n",
       "    type: FLOAT\n",
       "    num_stats {\n",
       "      common_stats {\n",
       "        num_non_missing: 436\n",
       "        min_num_values: 1\n",
       "        max_num_values: 1\n",
       "        avg_num_values: 1.0\n",
       "        num_values_histogram {\n",
       "          buckets {\n",
       "            low_value: 1.0\n",
       "            high_value: 1.0\n",
       "            sample_count: 43.6\n",
       "          }\n",
       "          buckets {\n",
       "            low_value: 1.0\n",
       "            high_value: 1.0\n",
       "            sample_count: 43.6\n",
       "          }\n",
       "          buckets {\n",
       "            low_value: 1.0\n",
       "            high_value: 1.0\n",
       "            sample_count: 43.6\n",
       "          }\n",
       "          buckets {\n",
       "            low_value: 1.0\n",
       "            high_value: 1.0\n",
       "            sample_count: 43.6\n",
       "          }\n",
       "          buckets {\n",
       "            low_value: 1.0\n",
       "            high_value: 1.0\n",
       "            sample_count: 43.6\n",
       "          }\n",
       "          buckets {\n",
       "            low_value: 1.0\n",
       "            high_value: 1.0\n",
       "            sample_count: 43.6\n",
       "          }\n",
       "          buckets {\n",
       "            low_value: 1.0\n",
       "            high_value: 1.0\n",
       "            sample_count: 43.6\n",
       "          }\n",
       "          buckets {\n",
       "            low_value: 1.0\n",
       "            high_value: 1.0\n",
       "            sample_count: 43.6\n",
       "          }\n",
       "          buckets {\n",
       "            low_value: 1.0\n",
       "            high_value: 1.0\n",
       "            sample_count: 43.6\n",
       "          }\n",
       "          buckets {\n",
       "            low_value: 1.0\n",
       "            high_value: 1.0\n",
       "            sample_count: 43.6\n",
       "          }\n",
       "          type: QUANTILES\n",
       "        }\n",
       "      }\n",
       "      mean: 89.68807339449542\n",
       "      std_dev: 7.780176229350519\n",
       "      min: 36.0\n",
       "      median: 90.0\n",
       "      max: 100.0\n",
       "      histograms {\n",
       "        buckets {\n",
       "          low_value: 36.0\n",
       "          high_value: 42.4\n",
       "          sample_count: 1\n",
       "        }\n",
       "        buckets {\n",
       "          low_value: 42.4\n",
       "          high_value: 48.8\n",
       "        }\n",
       "        buckets {\n",
       "          low_value: 48.8\n",
       "          high_value: 55.2\n",
       "        }\n",
       "        buckets {\n",
       "          low_value: 55.2\n",
       "          high_value: 61.6\n",
       "        }\n",
       "        buckets {\n",
       "          low_value: 61.6\n",
       "          high_value: 68.0\n",
       "          sample_count: 3\n",
       "        }\n",
       "        buckets {\n",
       "          low_value: 68.0\n",
       "          high_value: 74.4\n",
       "          sample_count: 7\n",
       "        }\n",
       "        buckets {\n",
       "          low_value: 74.4\n",
       "          high_value: 80.8\n",
       "          sample_count: 29\n",
       "        }\n",
       "        buckets {\n",
       "          low_value: 80.8\n",
       "          high_value: 87.2\n",
       "          sample_count: 126\n",
       "        }\n",
       "        buckets {\n",
       "          low_value: 87.2\n",
       "          high_value: 93.6\n",
       "          sample_count: 143\n",
       "        }\n",
       "        buckets {\n",
       "          low_value: 93.6\n",
       "          high_value: 100.0\n",
       "          sample_count: 127\n",
       "        }\n",
       "      }\n",
       "      histograms {\n",
       "        buckets {\n",
       "          low_value: 36.0\n",
       "          high_value: 81.0\n",
       "          sample_count: 43.6\n",
       "        }\n",
       "        buckets {\n",
       "          low_value: 81.0\n",
       "          high_value: 83.0\n",
       "          sample_count: 43.6\n",
       "        }\n",
       "        buckets {\n",
       "          low_value: 83.0\n",
       "          high_value: 86.0\n",
       "          sample_count: 43.6\n",
       "        }\n",
       "        buckets {\n",
       "          low_value: 86.0\n",
       "          high_value: 88.0\n",
       "          sample_count: 43.6\n",
       "        }\n",
       "        buckets {\n",
       "          low_value: 88.0\n",
       "          high_value: 90.0\n",
       "          sample_count: 43.6\n",
       "        }\n",
       "        buckets {\n",
       "          low_value: 90.0\n",
       "          high_value: 91.0\n",
       "          sample_count: 43.6\n",
       "        }\n",
       "        buckets {\n",
       "          low_value: 91.0\n",
       "          high_value: 93.0\n",
       "          sample_count: 43.6\n",
       "        }\n",
       "        buckets {\n",
       "          low_value: 93.0\n",
       "          high_value: 100.0\n",
       "          sample_count: 43.6\n",
       "        }\n",
       "        buckets {\n",
       "          low_value: 100.0\n",
       "          high_value: 100.0\n",
       "          sample_count: 43.6\n",
       "        }\n",
       "        buckets {\n",
       "          low_value: 100.0\n",
       "          high_value: 100.0\n",
       "          sample_count: 43.6\n",
       "        }\n",
       "        type: QUANTILES\n",
       "      }\n",
       "    }\n",
       "  }\n",
       "}"
      ]
     },
     "execution_count": 61,
     "metadata": {},
     "output_type": "execute_result"
    }
   ],
   "source": [
    "protoHS"
   ]
  },
  {
   "cell_type": "code",
   "execution_count": null,
   "metadata": {
    "collapsed": true
   },
   "outputs": [],
   "source": []
  },
  {
   "cell_type": "code",
   "execution_count": 63,
   "metadata": {
    "collapsed": false
   },
   "outputs": [
    {
     "data": {
      "text/html": [
       "<link rel=\"import\" href=\"/nbextensions/facets-dist/facets-jupyter.html\" >\n",
       "        <facets-overview id=\"elem\"></facets-overview>\n",
       "        <script>\n",
       "          document.querySelector(\"#elem\").protoInput = \"Cs0HCgV0ZXN0MRC0AxrABwolQ29ob3J0X0dyYWR1YXRpb25fUmF0ZV9TdGFuZGFyZF9TY29yZRABGpQHCrMCCLQDGAEgAS0AAIA/MqQCGhsJAAAAAAAA8D8RAAAAAAAA8D8hzczMzMzMRUAaGwkAAAAAAADwPxEAAAAAAADwPyHNzMzMzMxFQBobCQAAAAAAAPA/EQAAAAAAAPA/Ic3MzMzMzEVAGhsJAAAAAAAA8D8RAAAAAAAA8D8hzczMzMzMRUAaGwkAAAAAAADwPxEAAAAAAADwPyHNzMzMzMxFQBobCQAAAAAAAPA/EQAAAAAAAPA/Ic3MzMzMzEVAGhsJAAAAAAAA8D8RAAAAAAAA8D8hzczMzMzMRUAaGwkAAAAAAADwPxEAAAAAAADwPyHNzMzMzMxFQBobCQAAAAAAAPA/EQAAAAAAAPA/Ic3MzMzMzEVAGhsJAAAAAAAA8D8RAAAAAAAA8D8hzczMzMzMRUAgARHBpv1kCWxWQBlTtXiE5h4fQCkAAAAAAABCQDEAAAAAAIBWQDkAAAAAAABZQEKHAhobCQAAAAAAAEJAETMzMzMzM0VAIQAAAAAAAPA/GhIJMzMzMzMzRUARZmZmZmZmSEAaEglmZmZmZmZIQBGamZmZmZlLQBoSCZqZmZmZmUtAEc3MzMzMzE5AGhsJzczMzMzMTkARAAAAAAAAUUAhAAAAAAAACEAaGwkAAAAAAABRQBGamZmZmZlSQCEAAAAAAAAcQBobCZqZmZmZmVJAETQzMzMzM1RAIQAAAAAAAD1AGhsJNDMzMzMzVEARzczMzMzMVUAhAAAAAACAX0AaGwnNzMzMzMxVQBFmZmZmZmZXQCEAAAAAAOBhQBobCWZmZmZmZldAEQAAAAAAAFlAIQAAAAAAwF9AQqQCGhsJAAAAAAAAQkARAAAAAABAVEAhzczMzMzMRUAaGwkAAAAAAEBUQBEAAAAAAMBUQCHNzMzMzMxFQBobCQAAAAAAwFRAEQAAAAAAgFVAIc3MzMzMzEVAGhsJAAAAAACAVUARAAAAAAAAVkAhzczMzMzMRUAaGwkAAAAAAABWQBEAAAAAAIBWQCHNzMzMzMxFQBobCQAAAAAAgFZAEQAAAAAAwFZAIc3MzMzMzEVAGhsJAAAAAADAVkARAAAAAABAV0AhzczMzMzMRUAaGwkAAAAAAEBXQBEAAAAAAABZQCHNzMzMzMxFQBobCQAAAAAAAFlAEQAAAAAAAFlAIc3MzMzMzEVAGhsJAAAAAAAAWUARAAAAAAAAWUAhzczMzMzMRUAgAQ==\";\n",
       "        </script>"
      ],
      "text/plain": [
       "<IPython.core.display.HTML object>"
      ]
     },
     "metadata": {},
     "output_type": "display_data"
    }
   ],
   "source": [
    "from IPython.core.display import display, HTML\n",
    "import base64\n",
    "protostr = base64.b64encode(protoHS.SerializeToString()).decode(\"utf-8\")\n",
    "HTML_TEMPLATE = \"\"\"<link rel=\"import\" href=\"/nbextensions/facets-dist/facets-jupyter.html\" >\n",
    "        <facets-overview id=\"elem\"></facets-overview>\n",
    "        <script>\n",
    "          document.querySelector(\"#elem\").protoInput = \"{protostr}\";\n",
    "        </script>\"\"\"\n",
    "html = HTML_TEMPLATE.format(protostr=protostr)\n",
    "display(HTML(html))"
   ]
  },
  {
   "cell_type": "code",
   "execution_count": null,
   "metadata": {
    "collapsed": true
   },
   "outputs": [],
   "source": []
  },
  {
   "cell_type": "code",
   "execution_count": 28,
   "metadata": {
    "collapsed": false
   },
   "outputs": [],
   "source": [
    "protostr = base64.b64encode(proto.SerializeToString()).decode(\"utf-8\")"
   ]
  },
  {
   "cell_type": "code",
   "execution_count": 29,
   "metadata": {
    "collapsed": false
   },
   "outputs": [
    {
     "data": {
      "text/plain": [
       "'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'"
      ]
     },
     "execution_count": 29,
     "metadata": {},
     "output_type": "execute_result"
    }
   ],
   "source": [
    "protostr"
   ]
  },
  {
   "cell_type": "code",
   "execution_count": null,
   "metadata": {
    "collapsed": true
   },
   "outputs": [],
   "source": []
  },
  {
   "cell_type": "code",
   "execution_count": null,
   "metadata": {
    "collapsed": true
   },
   "outputs": [],
   "source": []
  }
 ],
 "metadata": {
  "kernelspec": {
   "display_name": "Python 3",
   "language": "python",
   "name": "python3"
  },
  "language_info": {
   "codemirror_mode": {
    "name": "ipython",
    "version": 3
   },
   "file_extension": ".py",
   "mimetype": "text/x-python",
   "name": "python",
   "nbconvert_exporter": "python",
   "pygments_lexer": "ipython3",
   "version": "3.6.0"
  }
 },
 "nbformat": 4,
 "nbformat_minor": 2
}
